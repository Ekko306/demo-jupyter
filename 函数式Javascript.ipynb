{
 "cells": [
  {
   "cell_type": "markdown",
   "metadata": {},
   "source": [
    "## 1 什么是函数式编程\n",
    "一种构建计算机程序结构和元素的风格，把计算看作对数学函数的评估，避免了状态的变化和数据的改变"
   ]
  },
  {
   "cell_type": "markdown",
   "metadata": {},
   "source": [
    "## 2 纯函数\n",
    "非常严格的定义：\n",
    "<br>1.如果给定相同的参数，则返回相同的结果(也称为确定性)。\n",
    "<br>2.它不会引起任何副作用。"
   ]
  },
  {
   "cell_type": "markdown",
   "metadata": {},
   "source": [
    "### 2.1 如果给定相同的参数，则得到相同结果\n",
    "不是纯函数，使用了一个没有作为参数传递给函数的全局变量PI（纯函数必须用传入的参数）"
   ]
  },
  {
   "cell_type": "code",
   "execution_count": null,
   "metadata": {},
   "outputs": [],
   "source": [
    "let PI = 3.14;\n",
    "    \n",
    "const calculateArea = (radius) => radius * radius * PI;\n",
    "    \n",
    "calculateArea(10); // returns 314.0"
   ]
  },
  {
   "cell_type": "markdown",
   "metadata": {},
   "source": [
    "现在把PI的值作为参数传递给函数，这样就没有外部对象引入"
   ]
  },
  {
   "cell_type": "code",
   "execution_count": 1,
   "metadata": {},
   "outputs": [
    {
     "data": {
      "text/plain": [
       "314"
      ]
     },
     "execution_count": 1,
     "metadata": {},
     "output_type": "execute_result"
    }
   ],
   "source": [
    "let PI = 3.14;\n",
    "\n",
    "const calculateArea = (radius, pi) => radius * radius * pi;\n",
    "\n",
    "calculateArea(10, PI); // returns 314.0"
   ]
  },
  {
   "cell_type": "markdown",
   "metadata": {},
   "source": [
    "### 2.1.1 读取文件\n",
    "不是纯函数，文档内容随时可能不一样"
   ]
  },
  {
   "cell_type": "code",
   "execution_count": 2,
   "metadata": {},
   "outputs": [],
   "source": [
    "const charactersCounter = (text) => `Character count: ${text.length}`;\n",
    "\n",
    "function analyzeFile(filename){\n",
    "    let fileontent = open(filename);\n",
    "    return charactersCounter(fileContent);\n",
    "}"
   ]
  },
  {
   "cell_type": "markdown",
   "metadata": {},
   "source": [
    "### 2.1.2 随机数生成\n",
    "不是纯函数，依赖于随机数生成器"
   ]
  },
  {
   "cell_type": "code",
   "execution_count": 3,
   "metadata": {},
   "outputs": [],
   "source": [
    "function yearEndEvalutation(){\n",
    "    if(Math.random()>0.5){\n",
    "        return \"You get a raise!\"\n",
    "    } else {\n",
    "        return \"Better luck next year!\"\n",
    "    }\n",
    "}"
   ]
  },
  {
   "cell_type": "markdown",
   "metadata": {},
   "source": [
    "### 2.2 无明显副作用\n",
    "纯函数，不会引起可观察到的副作用（修改全局对象或修改通过引用传递参数）"
   ]
  },
  {
   "cell_type": "markdown",
   "metadata": {},
   "source": [
    "下面这个非纯函数，修改了counter"
   ]
  },
  {
   "cell_type": "code",
   "execution_count": 7,
   "metadata": {},
   "outputs": [
    {
     "name": "stdout",
     "output_type": "stream",
     "text": [
      "2\n"
     ]
    }
   ],
   "source": [
    "let counter = 1\n",
    "function increaseCounter(value) {\n",
    "    counter = value + 1;\n",
    "}\n",
    "increaseCounter(counter);\n",
    "console.log(counter)"
   ]
  },
  {
   "cell_type": "markdown",
   "metadata": {},
   "source": [
    "下面这个纯函数，只需返回增加1的值"
   ]
  },
  {
   "cell_type": "code",
   "execution_count": 3,
   "metadata": {},
   "outputs": [
    {
     "name": "stdout",
     "output_type": "stream",
     "text": [
      "1\n"
     ]
    }
   ],
   "source": [
    "let counter = 1;\n",
    "const increaseCounter = (value) => value + 1;\n",
    "increaseCounter(counter);\n",
    "console.log(counter)"
   ]
  },
  {
   "cell_type": "markdown",
   "metadata": {},
   "source": [
    "总结：\n",
    "如果我们遵循 2.1 和 2.2 两个简单规则，就会更容易理解我们的程序。\n",
    "每个函数都是孤立的，不能影响系统的其他部分。\n",
    "纯函数是稳定的、一致的和可预测的。给定相同的参数，纯函数总是返回相同的结果。"
   ]
  },
  {
   "cell_type": "markdown",
   "metadata": {},
   "source": [
    "## 3 纯函数的好处\n",
    "好处是更容易测试，不会对其他东西mock\n",
    "(惊了！下面完全符合纯函数定义，原参数list没有改变，只有返回值变了，map不会变原参数)"
   ]
  },
  {
   "cell_type": "code",
   "execution_count": 9,
   "metadata": {},
   "outputs": [
    {
     "name": "stdout",
     "output_type": "stream",
     "text": [
      "[ 1, 2, 3, 4, 5 ]\n",
      "[ 2, 3, 4, 5, 6 ]\n"
     ]
    }
   ],
   "source": [
    "let list = [1,2,3,4,5]\n",
    "const incrementNumbers = (list) => list.map(number => number +1)\n",
    "incrementNumbers(list)\n",
    "console.log(list)\n",
    "console.log(incrementNumbers(list))"
   ]
  },
  {
   "cell_type": "markdown",
   "metadata": {},
   "source": [
    "## 4 纯函数特性\n",
    "1 不可变性\n",
    "<br>2 引用透明性\n",
    "<br>(不同于2 纯函数的定义)"
   ]
  },
  {
   "cell_type": "markdown",
   "metadata": {},
   "source": [
    "### 4.1 不可变性\n",
    "当数据是不可变的时，它的状态在创建后不能更改。\n",
    "<br>咱们不能更改不可变对象，如果非要来硬的，刚需要深拷贝一个副本，然后操作这个副本。\n",
    "<br>下面这个非纯函数 改变了 sumOfValues"
   ]
  },
  {
   "cell_type": "code",
   "execution_count": 12,
   "metadata": {},
   "outputs": [
    {
     "data": {
      "text/plain": [
       "15"
      ]
     },
     "execution_count": 12,
     "metadata": {},
     "output_type": "execute_result"
    }
   ],
   "source": [
    "var values = [1,2,3,4,5];\n",
    "var sumOfValues = 0\n",
    "for (var i=0; i < values.length; i++){\n",
    "     sumOfValues += values[i];\n",
    "}\n",
    "sumOfValues"
   ]
  },
  {
   "cell_type": "markdown",
   "metadata": {},
   "source": [
    "解决方法是使用递归，sum函数接受一个数值向量，函数调用自身，对每次便利把值加到accumulator中\n",
    "<br>使用递归，保持变量不变，不会改变list和accumulator变量"
   ]
  },
  {
   "cell_type": "code",
   "execution_count": 1,
   "metadata": {},
   "outputs": [
    {
     "name": "stdout",
     "output_type": "stream",
     "text": [
      "15\n",
      "[ 1, 2, 3, 4, 5 ]\n",
      "0\n"
     ]
    }
   ],
   "source": [
    "let list = [1,2,3,4,5];\n",
    "let accmulator = 0;\n",
    "function sum(list, accmulator){\n",
    "    if(list.length==0){\n",
    "        return accmulator;\n",
    "    }\n",
    "    return sum(list.slice(1), accmulator + list[0]);\n",
    "}\n",
    "\n",
    "console.log(sum(list, accmulator))\n",
    "console.log(list)\n",
    "console.log(accmulator)"
   ]
  },
  {
   "cell_type": "markdown",
   "metadata": {},
   "source": [
    "还有新方法，可以使用函数组合或函数链来优化\n",
    "<br>函数的结果将用作下一个函数的输入，而不修改原始输入字符串"
   ]
  },
  {
   "cell_type": "code",
   "execution_count": 1,
   "metadata": {},
   "outputs": [
    {
     "name": "stdout",
     "output_type": "stream",
     "text": [
      "i-will-be-a-url-slug\n",
      "I will be a url slug    \n"
     ]
    }
   ],
   "source": [
    "const string = \"I will be a url slug    \";\n",
    "const slugify = string =>\n",
    "    string\n",
    "      .toLowerCase()\n",
    "      .trim()\n",
    "      .split(\" \")\n",
    "      .join(\"-\");\n",
    "console.log(slugify(string))\n",
    "console.log(string)"
   ]
  },
  {
   "cell_type": "markdown",
   "metadata": {},
   "source": [
    "### 4.2 引用透明性\n",
    "如果一个函数对于相同的输入始终产生相同的结果，那么它可以看作透明的"
   ]
  },
  {
   "cell_type": "code",
   "execution_count": 3,
   "metadata": {},
   "outputs": [
    {
     "data": {
      "text/plain": [
       "4"
      ]
     },
     "execution_count": 3,
     "metadata": {},
     "output_type": "execute_result"
    }
   ],
   "source": [
    "const square = (n) => n*n\n",
    "square(2)\n",
    "square(2)\n",
    "square(2)"
   ]
  },
  {
   "cell_type": "code",
   "execution_count": 6,
   "metadata": {},
   "outputs": [
    {
     "data": {
      "text/plain": [
       "16"
      ]
     },
     "execution_count": 6,
     "metadata": {},
     "output_type": "execute_result"
    }
   ],
   "source": [
    "const sum = (a,b) => a + b;\n",
    "sum(3, sum(5, 8))\n",
    "sum(3, 13)"
   ]
  },
  {
   "cell_type": "markdown",
   "metadata": {},
   "source": [
    "## 5 函数是JS中的一级公民\n",
    "函数可以被当作值或者数据是使用（函数式编程不同于声明式编程的特性，融合JS的特性）\n",
    "1. 从常量中引用\n",
    "2. 将其作为参数传递个i其他函数\n",
    "3. 作为其他函数的结果返回他"
   ]
  },
  {
   "cell_type": "code",
   "execution_count": 1,
   "metadata": {},
   "outputs": [],
   "source": [
    "//这两个函数有相似的逻辑，可以将这两个函数视为值作为参数传递\n",
    "const doubleSum = (a, b) => (a + b)*2;\n",
    "const doubleSubtraction = (a, b) => (a - b) * 2"
   ]
  },
  {
   "cell_type": "code",
   "execution_count": 3,
   "metadata": {},
   "outputs": [
    {
     "name": "stdout",
     "output_type": "stream",
     "text": [
      "8\n",
      "4\n"
     ]
    }
   ],
   "source": [
    "const sum = (a, b) => a + b;\n",
    "const subtraction = (a, b) => a - b\n",
    "\n",
    "const doubleOperator = (f, a, b) => f(a, b) * 2;\n",
    "\n",
    "console.log(doubleOperator(sum, 3, 1))\n",
    "console.log(doubleOperator(subtraction, 3, 1))"
   ]
  },
  {
   "cell_type": "markdown",
   "metadata": {},
   "source": [
    "## 6 高阶函数\n",
    "特点：\n",
    "1. 将一个或多个函数作为参数\n",
    "2. 返回一个函数作为结果\n",
    "上面例子doubleOpertator是一个高阶函数，自带的还包含filter, map, reduce"
   ]
  },
  {
   "cell_type": "markdown",
   "metadata": {},
   "source": [
    "### 6.1 Filter\n",
    "#### 例子1: 获取所有偶数"
   ]
  },
  {
   "cell_type": "code",
   "execution_count": 7,
   "metadata": {},
   "outputs": [
    {
     "name": "stdout",
     "output_type": "stream",
     "text": [
      "[ 0, 2, 4, 6, 8, 10 ]\n"
     ]
    }
   ],
   "source": [
    "//命令式\n",
    "var numbers = [0,1,2,3,4,5,6,7,8,9,10];\n",
    "var evenNumbers = [];\n",
    "\n",
    "for(var i = 0; i < numbers.length; i++){\n",
    "    if (numbers[i] % 2 == 0 ){\n",
    "        evenNumbers.push(numbers[i]);\n",
    "    }\n",
    "}\n",
    "\n",
    "console.log(evenNumbers);"
   ]
  },
  {
   "cell_type": "code",
   "execution_count": 10,
   "metadata": {},
   "outputs": [
    {
     "name": "stdout",
     "output_type": "stream",
     "text": [
      "[ 0, 2, 4, 6, 8, 10 ]\n",
      "[\n",
      "  0,  1,  2,\n",
      "  3,  4,  5,\n",
      "  6,  7,  8,\n",
      "  9, 10\n",
      "]\n"
     ]
    }
   ],
   "source": [
    "//函数式   特别强 而且没有副作用 是纯函数 不关注细节\n",
    "const even = n => n % 2 == 0;\n",
    "const listOfNumbers = [0,1,2,3,4,5,6,7,8,9,10]\n",
    "console.log(listOfNumbers.filter(even))\n",
    "console.log(listOfNumbers)      "
   ]
  },
  {
   "cell_type": "markdown",
   "metadata": {},
   "source": [
    "#### 例子2:Filter Array问题\n",
    "过滤给定的整数数组，仅输出小雨制定值X的那些值"
   ]
  },
  {
   "cell_type": "code",
   "execution_count": 3,
   "metadata": {},
   "outputs": [
    {
     "name": "stdout",
     "output_type": "stream",
     "text": [
      "[ 2, 1, 0 ]\n"
     ]
    }
   ],
   "source": [
    "//命令式\n",
    "var filterArray = function(x, coll){\n",
    "    var resultArray = [];\n",
    "    \n",
    "    for(var i=0; i< coll.length; i++){\n",
    "        if(coll[i] < x){\n",
    "            resultArray.push(coll[i])\n",
    "        }\n",
    "    }\n",
    "    \n",
    "    return resultArray;\n",
    "}\n",
    "console.log(filterArray(3, [10,9,8,7,6,5,4,3,2,1,0]))"
   ]
  },
  {
   "cell_type": "code",
   "execution_count": 4,
   "metadata": {},
   "outputs": [
    {
     "name": "stdout",
     "output_type": "stream",
     "text": [
      "[ 2, 1, 0 ]\n"
     ]
    }
   ],
   "source": [
    "//声明式（函数式）\n",
    "function smaller(number) {\n",
    "    return number < this;\n",
    "}\n",
    "\n",
    "function filterArray(x, listOfNumbers){\n",
    "    return listOfNumbers.filter(smaller, x);\n",
    "}\n",
    "\n",
    "let numbers = [10,9,8,7,6,5,4,3,2,1,0]\n",
    "\n",
    "console.log(filterArray(3, numbers))"
   ]
  },
  {
   "cell_type": "markdown",
   "metadata": {},
   "source": [
    "#### 例子3: 过滤age大于21岁的人"
   ]
  },
  {
   "cell_type": "code",
   "execution_count": 5,
   "metadata": {},
   "outputs": [
    {
     "name": "stdout",
     "output_type": "stream",
     "text": [
      "[ { name: 'TK', age: 26 }, { name: 'Kazumi', age: 30 } ]\n"
     ]
    }
   ],
   "source": [
    "let people = [\n",
    "    {name: \"TK\", age: 26},\n",
    "    {name: \"Kaio\", age: 10},\n",
    "    {name: \"Kazumi\", age: 30}\n",
    "]\n",
    "\n",
    "const olderThan21 = person => person.age > 21;\n",
    "const overAge = people => people.filter(olderThan21);\n",
    "console.log(overAge(people))"
   ]
  },
  {
   "cell_type": "markdown",
   "metadata": {},
   "source": [
    "### 6.2 Map\n",
    "#### 例子1:  年龄例子\n",
    "我们不想过滤年龄大于 21 的人，我们想做的是显示类似这样的：TK is 26 years old."
   ]
  },
  {
   "cell_type": "code",
   "execution_count": 1,
   "metadata": {},
   "outputs": [
    {
     "name": "stdout",
     "output_type": "stream",
     "text": [
      "[\n",
      "  'TK is 26 years old',\n",
      "  'Kaio is 10 years old',\n",
      "  'Kazumi is 30 years old'\n",
      "]\n"
     ]
    }
   ],
   "source": [
    "//命令式\n",
    "var people = [\n",
    "    {name: \"TK\", age: 26},\n",
    "    {name: \"Kaio\", age: 10},\n",
    "    {name: \"Kazumi\", age: 30}\n",
    "]\n",
    "\n",
    "var peopleSentences = []\n",
    "\n",
    "for (var i=0; i< people.length; i++) {\n",
    "    var sentence = people[i].name + \" is \" + people[i].age + \" years old\";\n",
    "    peopleSentences.push(sentence)\n",
    "}\n",
    "\n",
    "console.log(peopleSentences);"
   ]
  },
  {
   "cell_type": "code",
   "execution_count": 6,
   "metadata": {},
   "outputs": [
    {
     "name": "stdout",
     "output_type": "stream",
     "text": [
      "[\n",
      "  'TK is 26 years old',\n",
      "  'Kaio is 10 years old',\n",
      "  'Kazumi is 30 years old'\n",
      "]\n"
     ]
    }
   ],
   "source": [
    "//声明式\n",
    "var people = [\n",
    "    {name: \"TK\", age: 26},\n",
    "    {name: \"Kaio\", age: 10},\n",
    "    {name: \"Kazumi\", age: 30}\n",
    "]\n",
    "const makeSentence = (person) => `${person.name} is ${person.age} years old`\n",
    "const peopleSentences = (people) => people.map(makeSentence);\n",
    "console.log(peopleSentences(people));"
   ]
  },
  {
   "cell_type": "markdown",
   "metadata": {},
   "source": [
    "#### 例子2:  另一个有趣HackerRank问题是更新列表问题\n",
    "我们想用一个数组的绝对值来更新它的值"
   ]
  },
  {
   "cell_type": "code",
   "execution_count": 9,
   "metadata": {},
   "outputs": [
    {
     "name": "stdout",
     "output_type": "stream",
     "text": [
      "[ 1, 2, 3, 4, 5 ]\n"
     ]
    }
   ],
   "source": [
    "//命令式\n",
    "var values = [1,2,3,-4,5];\n",
    "\n",
    "for (var i = 0; i < values.length; i++){\n",
    "    values[i] = Math.abs(values[i])\n",
    "}\n",
    "\n",
    "console.log(values)"
   ]
  },
  {
   "cell_type": "code",
   "execution_count": 24,
   "metadata": {},
   "outputs": [
    {
     "name": "stdout",
     "output_type": "stream",
     "text": [
      "[ 1, 2, 3, 4, 5 ]\n",
      "[ 1, 2, 3, -4, 5 ]\n"
     ]
    }
   ],
   "source": [
    "//函数式\n",
    "let values = [1,2,3,-4,5]\n",
    "const updateListMap = values => values.map(Math.abs)\n",
    "console.log(updateListMap(values))\n",
    "console.log(values)"
   ]
  },
  {
   "cell_type": "markdown",
   "metadata": {},
   "source": [
    "### 6.3 Reduce\n",
    "#### 例子1: 获取订单的总金额\n",
    "假设你在一个购物网站，已经将产品1、产品2、产品3和产品4添加到购物车(订单)中。现在，我们要计算购物车的总数量."
   ]
  },
  {
   "cell_type": "code",
   "execution_count": 27,
   "metadata": {},
   "outputs": [
    {
     "name": "stdout",
     "output_type": "stream",
     "text": [
      "120\n"
     ]
    }
   ],
   "source": [
    "//命令式\n",
    "var orders = [\n",
    "    { productTitle: \"Product 1\", amount: 10},\n",
    "    { productTitle: \"Product 2\", amount: 30},\n",
    "    { productTitle: \"Product 3\", amount: 20},\n",
    "    { productTitle: \"Product 4\", amount: 60}\n",
    "];\n",
    "\n",
    "var totalAmount = 0;\n",
    "\n",
    "for(var i = 0;i < orders.length; i++){\n",
    "    totalAmount += orders[i].amount;\n",
    "}\n",
    "\n",
    "console.log(totalAmount);"
   ]
  },
  {
   "cell_type": "code",
   "execution_count": 30,
   "metadata": {},
   "outputs": [
    {
     "name": "stdout",
     "output_type": "stream",
     "text": [
      "120\n",
      "[\n",
      "  { productTitle: 'Product 1', amount: 10 },\n",
      "  { productTitle: 'Product 2', amount: 30 },\n",
      "  { productTitle: 'Product 3', amount: 20 },\n",
      "  { productTitle: 'Product 4', amount: 60 }\n",
      "]\n"
     ]
    }
   ],
   "source": [
    "//函数式\n",
    "let shoppingCart =[\n",
    "    { productTitle: \"Product 1\", amount: 10},\n",
    "    { productTitle: \"Product 2\", amount: 30},\n",
    "    { productTitle: \"Product 3\", amount: 20},\n",
    "    { productTitle: \"Product 4\", amount: 60}\n",
    "]\n",
    "\n",
    "const sumAmount = (currentTotalAmount, order) => currentTotalAmount + order.amount;\n",
    "const getTotalAmount = (shoppingCart) => shoppingCart.reduce(sumAmount, 0)\n",
    "console.log(getTotalAmount(shoppingCart))\n",
    "console.log(shoppingCart)"
   ]
  },
  {
   "cell_type": "code",
   "execution_count": 34,
   "metadata": {},
   "outputs": [
    {
     "data": {
      "text/plain": [
       "120"
      ]
     },
     "execution_count": 34,
     "metadata": {},
     "output_type": "execute_result"
    }
   ],
   "source": [
    "//另一种灵活的函数式编程 map和reduce结合 更好的函数式\n",
    "let shoppingCart =[\n",
    "    { productTitle: \"Product 1\", amount: 10},\n",
    "    { productTitle: \"Product 2\", amount: 30},\n",
    "    { productTitle: \"Product 3\", amount: 20},\n",
    "    { productTitle: \"Product 4\", amount: 60}\n",
    "]\n",
    "const getAmount = (order) => order.amount;\n",
    "const sumAmount = (acc, amount) => acc + amount;\n",
    "\n",
    "function getTotalAmount(shoppingCart){\n",
    "    return shoppingCart\n",
    "        .map(getAmount)\n",
    "        .reduce(sumAmount, 0)\n",
    "}\n",
    "\n",
    "getTotalAmount(shoppingCart);"
   ]
  },
  {
   "cell_type": "markdown",
   "metadata": {},
   "source": [
    "## 7 三个函数的示例 \n",
    "组合前面三个高阶函数map,filter,reduce的例子"
   ]
  },
  {
   "cell_type": "code",
   "execution_count": 37,
   "metadata": {},
   "outputs": [
    {
     "data": {
      "text/plain": [
       "70"
      ]
     },
     "execution_count": 37,
     "metadata": {},
     "output_type": "execute_result"
    }
   ],
   "source": [
    "let shoppingCart = [\n",
    "    { productTitle: \"Functional Programming\", type: \"books\", amount:10},\n",
    "    { productTitle: \"Kindle\", type: \"eletronics\", amount:30},\n",
    "    { productTitle: \"Shoes\", type: \"fashin\", amount:20},\n",
    "    { productTitle: \"Clean Code\", type: \"books\", amount:60}\n",
    "]\n",
    "\n",
    "const byBooks = (order) => order.type == \"books\";\n",
    "const getAmount = (order) => order.amount;\n",
    "const sumAmount = (acc, amount) => acc + amount;\n",
    "\n",
    "function getTotalAmount(shoppingCart) {\n",
    "    return shoppingCart\n",
    "        .filter(byBooks)\n",
    "        .map(getAmount)\n",
    "        .reduce(sumAmount, 0);\n",
    "}\n",
    "\n",
    "getTotalAmount(shoppingCart);"
   ]
  }
 ],
 "metadata": {
  "kernelspec": {
   "display_name": "Javascript (Node.js)",
   "language": "javascript",
   "name": "javascript"
  },
  "language_info": {
   "file_extension": ".js",
   "mimetype": "application/javascript",
   "name": "javascript",
   "version": "12.3.1"
  }
 },
 "nbformat": 4,
 "nbformat_minor": 2
}
