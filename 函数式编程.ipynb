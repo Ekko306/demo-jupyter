{
 "cells": [
  {
   "cell_type": "markdown",
   "metadata": {},
   "source": [
    "## 一、命令式编程(Declarative)"
   ]
  },
  {
   "cell_type": "markdown",
   "metadata": {},
   "source": [
    "命令式编程关注实现的细节，关注计算机执行的步骤，一步步告诉计算机先做什么再做什么\n",
    " <br>执行的效率取决于执行命令的数量"
   ]
  },
  {
   "cell_type": "code",
   "execution_count": 6,
   "metadata": {},
   "outputs": [
    {
     "name": "stdout",
     "output_type": "stream",
     "text": [
      "[ { id: 1, name: '商品一' } ]\n"
     ]
    }
   ],
   "source": [
    "//命令式编程\n",
    "let cart = []\n",
    "\n",
    "function addCart(commodity){\n",
    "    if(!commodity){\n",
    "        throw new Error('Parameters required');\n",
    "    }\n",
    "    \n",
    "    for(let i = 0, len = cart.length; i<len; i++){\n",
    "        if(cart[i] && cart[i].id == commodity.id){\n",
    "            throw new Error('Commodity repeat');\n",
    "        }\n",
    "    }\n",
    "    \n",
    "    cart.push(commodity);\n",
    "}\n",
    "\n",
    "addCart({id:1, name: '商品一'})\n",
    "console.log(cart)"
   ]
  },
  {
   "cell_type": "code",
   "execution_count": 15,
   "metadata": {},
   "outputs": [
    {
     "name": "stdout",
     "output_type": "stream",
     "text": [
      "[ { id: 1, name: '商品一' } ]\n",
      "[]\n"
     ]
    }
   ],
   "source": [
    "//改进成函数式编程\n",
    "let cart = [];\n",
    "\n",
    "function validateParam(param){\n",
    "    if(!param){\n",
    "        throw new Error('Parameters required')\n",
    "    }\n",
    "    return param;\n",
    "}\n",
    "\n",
    "function filterCommodityWithId(cart, commodity){\n",
    "    for(let i = 0, len = cart.length; i < len; i++){\n",
    "        if(cart[i] && cart[i].id == commodity.id){\n",
    "            throw new Error('Commodity repeat');\n",
    "        }\n",
    "    }\n",
    "    return {cart, commodity};\n",
    "}\n",
    "\n",
    "function addShopInCart({cart, commodity}){\n",
    "    let newCart = [...cart];    //创建备份 不会修改外部cart 纯函数\n",
    "    newCart.push(commodity);\n",
    "    return newCart;\n",
    "}\n",
    "\n",
    "function addCart(cart, commodity){\n",
    "    return addShopInCart(filterCommodityWithId(validateParam(cart),validateParam(commodity)))\n",
    "}\n",
    "\n",
    "console.log(addCart(cart, {id:1, name: '商品一'}))\n",
    "console.log(cart)   //无副作用"
   ]
  },
  {
   "cell_type": "markdown",
   "metadata": {},
   "source": [
    "上面明显可以看到命令式编程和函数式编程的区别\n",
    "<br>命令式编程式 一步步按照计算机思想\n",
    "<br>函数式编程将 一切看作函数， 执行无副作用的纯函数\n",
    "<br>**要学习转变 命令式编程 => 声明式编程（函数式编程属于声明式编程思想，但更进一步）**"
   ]
  },
  {
   "cell_type": "markdown",
   "metadata": {},
   "source": [
    "## 声明式编程\n",
    "声明式编程关注做什么（命令式编程关注怎么做，教计算机做事），避免副作用\n",
    "<br>声明式编程不关注对象实现细节，不关注底层实现，重点关注计算机应该做什么（人的思路）\n",
    "<br><span style=\"color: red\">典型的声明式编程有：数据库查询+正则表达式+html标签等</span>"
   ]
  },
  {
   "cell_type": "code",
   "execution_count": 20,
   "metadata": {},
   "outputs": [
    {
     "name": "stdout",
     "output_type": "stream",
     "text": [
      "[ 2, 4 ]\n",
      "[ 1, 2, 3, 4, 5 ]\n"
     ]
    }
   ],
   "source": [
    "//声明式编程 告知机器做什么 隐藏具体的实现细节\n",
    "let arr = [1,2,3,4,5]\n",
    "\n",
    "console.log(arr.filter((item) => item % 2 == 0))\n",
    "\n",
    "console.log(arr)        //filter无副作用 👍"
   ]
  },
  {
   "cell_type": "code",
   "execution_count": 21,
   "metadata": {},
   "outputs": [
    {
     "name": "stdout",
     "output_type": "stream",
     "text": [
      "[ 2, 4 ]\n",
      "[ 1, 2, 3, 4, 5 ]\n"
     ]
    }
   ],
   "source": [
    "//命令式编程，关注实现过程\n",
    "let arr = [1,2,3,4,5]\n",
    "let result = [];\n",
    "\n",
    "for(let i=0, len=arr.length; i < len; i++){\n",
    "    let cacheItem = arr[i];\n",
    "    if(cacheItem % 2 == 0){\n",
    "        result.push(cacheItem);\n",
    "    }\n",
    "}\n",
    "\n",
    "console.log(result)\n",
    "console.log(arr)"
   ]
  },
  {
   "cell_type": "code",
   "execution_count": 22,
   "metadata": {},
   "outputs": [
    {
     "name": "stdout",
     "output_type": "stream",
     "text": [
      "[ 2, 4 ]\n",
      "[ 1, 2, 3, 4, 5 ]\n"
     ]
    }
   ],
   "source": [
    "//函数式编程，纯函数实现  函数第一位\n",
    "let arr= [1,2,3,4,5];\n",
    "\n",
    "function findOddNumber(resource){\n",
    "    let result = [];\n",
    "    for(let i=0, len = resource.length; i < len; i++){\n",
    "        let cacheItem = resource[i];\n",
    "        if(cacheItem % 2 == 0){\n",
    "            result.push(cacheItem);\n",
    "        }\n",
    "    }\n",
    "    return result;\n",
    "}\n",
    "console.log(findOddNumber(arr))\n",
    "console.log(arr)"
   ]
  },
  {
   "cell_type": "markdown",
   "metadata": {},
   "source": [
    "## 三、函数式编程（Functional）\n",
    "函数式编程式声明式编程的一部分，思想一致：**函数第一位**"
   ]
  },
  {
   "cell_type": "markdown",
   "metadata": {},
   "source": [
    "函数式编程特性：\n",
    "1. 不可变性\n",
    "2. 纯函数\n",
    "3. 数据转换\n",
    "4. 闭包以及高阶函数\n",
    "5. 递归\n",
    "6. 组合\n",
    "7. 惰性计算\n"
   ]
  },
  {
   "cell_type": "markdown",
   "metadata": {},
   "source": [
    "> 学习链接：https://blog.csdn.net/webfuchen/article/details/90721761"
   ]
  }
 ],
 "metadata": {
  "kernelspec": {
   "display_name": "Javascript (Node.js)",
   "language": "javascript",
   "name": "javascript"
  },
  "language_info": {
   "file_extension": ".js",
   "mimetype": "application/javascript",
   "name": "javascript",
   "version": "12.3.1"
  }
 },
 "nbformat": 4,
 "nbformat_minor": 2
}
